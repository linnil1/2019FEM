{
 "cells": [
  {
   "cell_type": "markdown",
   "metadata": {},
   "source": [
    "# Force 1D\n",
    "This code can be used to solve statics by FEM in one dimension.\n",
    "\n",
    "Also work in 1D heat transfer.\n",
    "\n",
    "The formula is $K'u = F$, and $Ku = P$\n",
    "where K is equivalent stiffness matrix,\n",
    "      K' is stiffness matrix with boundry condition,\n",
    "      u is displacement of nodes,\n",
    "      F is outer force,\n",
    "      P is reaction force\n",
    "      \n",
    "**Note: The index is started from 0**"
   ]
  },
  {
   "cell_type": "markdown",
   "metadata": {},
   "source": [
    "## Question and custom data\n",
    "![](https://raw.githubusercontent.com/linnil1/2019FEM/master/images/Force_1D.png)\n",
    "\n",
    "There are three parameters.\n",
    "* `k_equ` is an array defined the equivalent stiffness value between each two nodes.\n",
    "   The number of points are the length of K plus 1.\n",
    "* `boundry` is an array, e.g. `[(0, 10),]` means $u_0=10$.\n",
    "* `F` is an array, e.g. `[(0, 200), (4, 30)]` means $F_0=200$ and $F_4=30$."
   ]
  },
  {
   "cell_type": "code",
   "execution_count": 1,
   "metadata": {},
   "outputs": [],
   "source": [
    "import numpy as np\n",
    "\n",
    "k_equ = [975, 845, 775, 585]\n",
    "F = [(4, 1)]\n",
    "boundry = [(0, 0)]"
   ]
  },
  {
   "cell_type": "markdown",
   "metadata": {},
   "source": [
    "## Prepare big matrix table"
   ]
  },
  {
   "cell_type": "code",
   "execution_count": 2,
   "metadata": {},
   "outputs": [
    {
     "name": "stdout",
     "output_type": "stream",
     "text": [
      "T\n",
      "[[ 975. -975.    0.    0.    0.]\n",
      " [-975. 1820. -845.    0.    0.]\n",
      " [   0. -845. 1620. -775.    0.]\n",
      " [   0.    0. -775. 1360. -585.]\n",
      " [   0.    0.    0. -585.  585.]]\n"
     ]
    }
   ],
   "source": [
    "# set table\n",
    "m = np.int(len(k_equ) + 1)\n",
    "bigT = np.zeros([m, m])\n",
    "# calculate T\n",
    "for i, k in enumerate(k_equ):\n",
    "    bigT[i:i+2, i:i+2] += np.array([[1, -1], [-1, 1]]) * k\n",
    "print(\"T\")\n",
    "print(bigT)"
   ]
  },
  {
   "cell_type": "markdown",
   "metadata": {},
   "source": [
    "## Prepare big matrix with boundry condition"
   ]
  },
  {
   "cell_type": "code",
   "execution_count": 3,
   "metadata": {},
   "outputs": [
    {
     "name": "stdout",
     "output_type": "stream",
     "text": [
      "boundray Table\n",
      "[[ 1.00e+00  0.00e+00  0.00e+00  0.00e+00  0.00e+00]\n",
      " [-9.75e+02  1.82e+03 -8.45e+02  0.00e+00  0.00e+00]\n",
      " [ 0.00e+00 -8.45e+02  1.62e+03 -7.75e+02  0.00e+00]\n",
      " [ 0.00e+00  0.00e+00 -7.75e+02  1.36e+03 -5.85e+02]\n",
      " [ 0.00e+00  0.00e+00  0.00e+00 -5.85e+02  5.85e+02]]\n",
      "P\n",
      "[0. 0. 0. 0. 1.]\n"
     ]
    }
   ],
   "source": [
    "# Set boundary on table\n",
    "P = np.zeros(m)\n",
    "boundT = bigT.copy()\n",
    "for bound in boundry:\n",
    "    boundT[bound[0], :] = 0\n",
    "    boundT[bound[0], bound[0]] = 1\n",
    "    P[bound[0]] = bound[1]\n",
    "print(\"boundray Table\")\n",
    "print(boundT)\n",
    "\n",
    "# set boundry on force\n",
    "for f in F:\n",
    "    P[f[0]] = f[1]\n",
    "print(\"P\")\n",
    "print(P)"
   ]
  },
  {
   "cell_type": "markdown",
   "metadata": {},
   "source": [
    "## Solve."
   ]
  },
  {
   "cell_type": "code",
   "execution_count": 4,
   "metadata": {},
   "outputs": [
    {
     "name": "stdout",
     "output_type": "stream",
     "text": [
      "u\n",
      "[6.83214169e-19 1.02564103e-03 2.20907298e-03 3.49939556e-03\n",
      " 5.20879727e-03]\n",
      "R\n",
      "[-1.  0.  0.  0.  1.]\n"
     ]
    }
   ],
   "source": [
    "u = np.linalg.inv(boundT).dot(P)\n",
    "print(\"u\")\n",
    "print(u)\n",
    "\n",
    "print(\"R\")\n",
    "print(bigT.dot(u))"
   ]
  },
  {
   "cell_type": "code",
   "execution_count": null,
   "metadata": {},
   "outputs": [],
   "source": []
  }
 ],
 "metadata": {
  "kernelspec": {
   "display_name": "Python 3",
   "language": "python",
   "name": "python3"
  },
  "language_info": {
   "codemirror_mode": {
    "name": "ipython",
    "version": 3
   },
   "file_extension": ".py",
   "mimetype": "text/x-python",
   "name": "python",
   "nbconvert_exporter": "python",
   "pygments_lexer": "ipython3",
   "version": "3.6.9"
  }
 },
 "nbformat": 4,
 "nbformat_minor": 2
}

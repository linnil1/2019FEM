{
 "cells": [
  {
   "cell_type": "markdown",
   "metadata": {},
   "source": [
    "# Plain Stress\n",
    "Calculate stress's load and stiffness matrix"
   ]
  },
  {
   "cell_type": "markdown",
   "metadata": {},
   "source": [
    "## Custom data\n",
    "![](https://raw.githubusercontent.com/linnil1/2019FEM/master/images/PlainStress.png)\n",
    "\n",
    "* E: Elastic\n",
    "* v: Poisson ratio\n",
    "* nodes: three (x, y) locations\n",
    "* thick: thickness\n",
    "* force: external concentrated force\n",
    "* P: external distributed force(pressure)"
   ]
  },
  {
   "cell_type": "code",
   "execution_count": 1,
   "metadata": {},
   "outputs": [],
   "source": [
    "import numpy as np\n",
    "\n",
    "E = 200e5\n",
    "# posisson ratio\n",
    "v = 0.32\n",
    "nodes = [[2.25, 0.75],\n",
    "         [2.40, 1.65],\n",
    "         [1.5,  1.0 ]]\n",
    "thick = 0.3\n",
    "# Force at i, j, k\n",
    "forces = [0, 0, -500 * np.cos(np.deg2rad(50)), -500 * np.sin(np.deg2rad(50)), 0, 0]\n",
    "# Pressure at ij, jk, ki\n",
    "P = [0, 0, 0, 0, 1200, 0]"
   ]
  },
  {
   "cell_type": "code",
   "execution_count": 2,
   "metadata": {},
   "outputs": [
    {
     "name": "stdout",
     "output_type": "stream",
     "text": [
      "K\n",
      "[[ 3273759.26447134 -1811145.51083591  -314288.39478375   372924.28933296\n",
      "  -2959470.86968759  1438221.22150295]\n",
      " [-1811145.51083591  4473449.66694812   439769.20911905 -2907167.6517497\n",
      "   1371376.30171686 -1566282.01519842]\n",
      " [ -314288.39478375   439769.20911905  1190308.65934891   580495.35603715\n",
      "   -876020.26456516 -1020264.56515621]\n",
      " [  372924.28933296 -2907167.6517497    580495.35603715  2738296.27544798\n",
      "   -953419.64537011   168871.37630172]\n",
      " [-2959470.86968759  1371376.30171686  -876020.26456516  -953419.64537011\n",
      "   3835491.13425274  -417956.65634675]\n",
      " [ 1438221.22150295 -1566282.01519842 -1020264.56515621   168871.37630172\n",
      "   -417956.65634675  1397410.63889671]]\n",
      "F\n",
      "[ 142.30249471    0.         -321.39380484 -383.02222156  142.30249471\n",
      "    0.        ]\n"
     ]
    }
   ],
   "source": [
    "nodes = np.array(nodes)\n",
    "forces = np.array(forces)\n",
    "P = np.array(P)\n",
    "\n",
    "def getK():\n",
    "    V = E / (1 - v ** 2) * np.array([\n",
    "            [1, v, 0],\n",
    "            [v, 1, 0],\n",
    "            [0, 0, (1 - v) / 2]])\n",
    "    dpos = np.roll(nodes, -1, axis=0) - np.roll(nodes, -2, axis=0)\n",
    "    dpos[:, 0] *= -1\n",
    "    A = np.abs(np.cross(dpos[0], dpos[1])) / 2\n",
    "    B =  np.zeros([3, 6])\n",
    "    B[0, 0::2] = dpos[:, 1]\n",
    "    B[1, 1::2] = dpos[:, 0]\n",
    "    B[2, 0::2] = dpos[:, 0]\n",
    "    B[2, 1::2] = dpos[:, 1]\n",
    "    B = B / 2 / A\n",
    "\n",
    "    K = A * thick * (B.T).dot(V).dot(B)\n",
    "    return K\n",
    "\n",
    "def getF():\n",
    "    F = np.zeros(6)\n",
    "    for i in range(3):\n",
    "        j = (i + 1) % 3\n",
    "        l = np.sqrt(((nodes[i] - nodes[j]) ** 2).sum())\n",
    "        i *= 2\n",
    "        j *= 2\n",
    "        F[[i, i + 1]] += forces[[i, i + 1]]\n",
    "        F[[i,     j    ]] += thick / 2 * l * P[i    ]\n",
    "        F[[i + 1, j + 1]] += thick / 2 * l * P[i + 1]\n",
    "    return F\n",
    "\n",
    "print(\"K\")\n",
    "print(getK())\n",
    "print(\"F\")\n",
    "print(getF())"
   ]
  },
  {
   "cell_type": "code",
   "execution_count": null,
   "metadata": {},
   "outputs": [],
   "source": []
  }
 ],
 "metadata": {
  "kernelspec": {
   "display_name": "Python 3",
   "language": "python",
   "name": "python3"
  },
  "language_info": {
   "codemirror_mode": {
    "name": "ipython",
    "version": 3
   },
   "file_extension": ".py",
   "mimetype": "text/x-python",
   "name": "python",
   "nbconvert_exporter": "python",
   "pygments_lexer": "ipython3",
   "version": "3.6.9"
  }
 },
 "nbformat": 4,
 "nbformat_minor": 2
}

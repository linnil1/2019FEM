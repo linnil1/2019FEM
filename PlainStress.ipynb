{
 "cells": [
  {
   "cell_type": "markdown",
   "metadata": {},
   "source": [
    "# Plain Stress\n",
    "Calculate stress's load and stiffness matrix\n",
    "\n",
    "Custom data here."
   ]
  },
  {
   "cell_type": "code",
   "execution_count": null,
   "metadata": {},
   "outputs": [],
   "source": [
    "import numpy as np\n",
    "\n",
    "E = 200e5\n",
    "# posisson ratio\n",
    "v = 0.32\n",
    "nodes = [[2.25, 0.75],\n",
    "         [2.40, 1.65],\n",
    "         [1.5,  1.0 ]]\n",
    "thick = 0.3\n",
    "# Force at i, j, k\n",
    "forces = [0, 0, -500 * np.cos(np.deg2rad(50)), -500 * np.sin(np.deg2rad(50)), 0, 0]\n",
    "# Pressure at ij, jk, ki\n",
    "P = [0, 0, 0, 0, 1200, 0]"
   ]
  },
  {
   "cell_type": "code",
   "execution_count": null,
   "metadata": {},
   "outputs": [],
   "source": [
    "nodes = np.array(nodes)\n",
    "forces = np.array(forces)\n",
    "P = np.array(P)\n",
    "\n",
    "def getK():\n",
    "    V = E / (1 - v ** 2) * np.array([\n",
    "            [1, v, 0],\n",
    "            [v, 1, 0],\n",
    "            [0, 0, (1 - v) / 2]])\n",
    "    dpos = np.roll(nodes, -1, axis=0) - np.roll(nodes, -2, axis=0)\n",
    "    dpos[:, 0] *= -1\n",
    "    A = np.abs(np.cross(dpos[0], dpos[1])) / 2\n",
    "    B =  np.zeros([3, 6])\n",
    "    B[0, 0::2] = dpos[:, 1]\n",
    "    B[1, 1::2] = dpos[:, 0]\n",
    "    B[2, 0::2] = dpos[:, 0]\n",
    "    B[2, 1::2] = dpos[:, 1]\n",
    "    B = B / 2 / A\n",
    "\n",
    "    K = A * thick * (B.T).dot(V).dot(B)\n",
    "    return K\n",
    "\n",
    "def getF():\n",
    "    F = np.zeros(6)\n",
    "    for i in range(3):\n",
    "        j = (i + 1) % 3\n",
    "        l = np.sqrt(((nodes[i] - nodes[j]) ** 2).sum())\n",
    "        i *= 2\n",
    "        j *= 2\n",
    "        F[[i, i + 1]] += forces[[i, i + 1]]\n",
    "        F[[i,     j    ]] += thick / 2 * l * P[i    ]\n",
    "        F[[i + 1, j + 1]] += thick / 2 * l * P[i + 1]\n",
    "    return F\n",
    "\n",
    "print(getM())\n",
    "print(getF())\n",
    "\n"
   ]
  }
 ],
 "metadata": {
  "kernelspec": {
   "display_name": "Python 3",
   "language": "python",
   "name": "python3"
  },
  "language_info": {
   "codemirror_mode": {
    "name": "ipython",
    "version": 3
   },
   "file_extension": ".py",
   "mimetype": "text/x-python",
   "name": "python",
   "nbconvert_exporter": "python",
   "pygments_lexer": "ipython3",
   "version": "3.6.8"
  }
 },
 "nbformat": 4,
 "nbformat_minor": 2
}

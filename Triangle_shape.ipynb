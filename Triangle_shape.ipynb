{
 "cells": [
  {
   "cell_type": "markdown",
   "metadata": {},
   "source": [
    "# Triangle shape function for 2D\n",
    "\n",
    "Get interpolation from three points of triangle shape.\n",
    "\n",
    "The format look like this\n",
    "`T = [[xi yi vi] [xj yj vj] [xk yk vk]]`\n",
    "\n",
    "You can give target position to get the value of that point or \n",
    "give a target number to get where the value is."
   ]
  },
  {
   "cell_type": "code",
   "execution_count": 1,
   "metadata": {},
   "outputs": [],
   "source": [
    "import numpy as np\n",
    "\n",
    "V = [[2.25, 0.75, 69], [2.40, 1.65, 67], [1.5, 1.0, 77]]\n",
    "target_pos = [2.15, 1.1]\n",
    "target_value = 70"
   ]
  },
  {
   "cell_type": "markdown",
   "metadata": {},
   "source": [
    "## Slove by target position"
   ]
  },
  {
   "cell_type": "code",
   "execution_count": 2,
   "metadata": {},
   "outputs": [
    {
     "name": "stdout",
     "output_type": "stream",
     "text": [
      "Area and Areai Areaj Areak\n",
      "0.35624999999999996 0.1662499999999999 0.11875000000000002 0.07125000000000002\n",
      "Result\n",
      "69.93333333333334\n"
     ]
    }
   ],
   "source": [
    "V = np.array(V)\n",
    "pos = V[:, :2]\n",
    "target = np.array(target_pos)\n",
    "permut = [[1, 2], [0, 2], [0, 1]]\n",
    "\n",
    "A  =  np.abs(np.cross(pos[1] - pos[0], pos[2] - pos[0]) / 2)\n",
    "As = [np.abs(np.cross(target - pos[i], target - pos[j]) / 2) for (i, j) in permut]\n",
    "print(\"Area and Areai Areaj Areak\")\n",
    "print(A, *As)\n",
    "\n",
    "print(\"Result\")\n",
    "print(np.sum(As * V[:, 2]) / A)"
   ]
  },
  {
   "cell_type": "markdown",
   "metadata": {},
   "source": [
    "## Slove by target number"
   ]
  },
  {
   "cell_type": "code",
   "execution_count": 3,
   "metadata": {},
   "outputs": [
    {
     "name": "stdout",
     "output_type": "stream",
     "text": [
      "On 1 2\n",
      "[2.13  1.455]\n",
      "On 0 2\n",
      "[2.15625 0.78125]\n"
     ]
    }
   ],
   "source": [
    "for (i, j) in permut:\n",
    "    if np.min((V[i, 2], V[j, 2])) <= target_value <= np.max((V[i, 2], V[j, 2])):\n",
    "        print(f\"On {i} {j}\")\n",
    "        xy = (target_value - V[j, 2]) / (V[i, 2] - V[j, 2]) * (pos[i] - pos[j]) + pos[j]\n",
    "        print(xy)\n"
   ]
  },
  {
   "cell_type": "code",
   "execution_count": null,
   "metadata": {},
   "outputs": [],
   "source": []
  }
 ],
 "metadata": {
  "kernelspec": {
   "display_name": "Python 3",
   "language": "python",
   "name": "python3"
  },
  "language_info": {
   "codemirror_mode": {
    "name": "ipython",
    "version": 3
   },
   "file_extension": ".py",
   "mimetype": "text/x-python",
   "name": "python",
   "nbconvert_exporter": "python",
   "pygments_lexer": "ipython3",
   "version": "3.6.9"
  }
 },
 "nbformat": 4,
 "nbformat_minor": 2
}

{
 "cells": [
  {
   "cell_type": "markdown",
   "metadata": {},
   "source": [
    "# Triangle shape function for 2D\n",
    "\n",
    "Input position and number per node(i, j, k)\n",
    "\n",
    "The format look like this\n",
    "`[xi yi ti]`\n",
    "\n",
    "And your target position or target number"
   ]
  },
  {
   "cell_type": "code",
   "execution_count": 1,
   "metadata": {},
   "outputs": [],
   "source": [
    "import numpy as np\n",
    "\n",
    "T = [[2.25, 0.75, 69], [2.40, 1.65, 67], [1.5, 1.0, 77]]\n",
    "target = [2.15, 1.1]\n",
    "targetT = 70"
   ]
  },
  {
   "cell_type": "markdown",
   "metadata": {},
   "source": [
    "## Slove by target position"
   ]
  },
  {
   "cell_type": "code",
   "execution_count": 2,
   "metadata": {},
   "outputs": [
    {
     "name": "stdout",
     "output_type": "stream",
     "text": [
      "A and Ai Aj Ak\n",
      "0.35624999999999996 0.1662499999999999 0.11875000000000002 0.07125000000000002\n",
      "Result\n",
      "69.93333333333334\n"
     ]
    }
   ],
   "source": [
    "T = np.array(T)\n",
    "pos = T[:, :2]\n",
    "target = np.array(target)\n",
    "v = [[1, 2], [0, 2], [0, 1]]\n",
    "\n",
    "A  =  np.abs(np.cross(pos[1] - pos[0], pos[2] - pos[0]) / 2)\n",
    "As = [np.abs(np.cross(target - pos[i], target - pos[j]) / 2) for (i, j) in v]\n",
    "print(\"A and Ai Aj Ak\")\n",
    "print(A, *As)\n",
    "\n",
    "print(\"Result\")\n",
    "print(np.sum(As * T[:, 2]) / A)"
   ]
  },
  {
   "cell_type": "markdown",
   "metadata": {},
   "source": [
    "## Slove by target number"
   ]
  },
  {
   "cell_type": "code",
   "execution_count": 3,
   "metadata": {},
   "outputs": [
    {
     "name": "stdout",
     "output_type": "stream",
     "text": [
      "On 1 2\n",
      "[2.13  1.455]\n",
      "On 0 2\n",
      "[2.15625 0.78125]\n"
     ]
    }
   ],
   "source": [
    "for (i, j) in v:\n",
    "    if np.min((T[i, 2], T[j, 2])) <= targetT <= np.max((T[i, 2], T[j, 2])):\n",
    "        print(f\"On {i} {j}\")\n",
    "        xy = (targetT - T[j][2]) / (T[i, 2] - T[j, 2]) * (pos[i] - pos[j]) + pos[j]\n",
    "        print(xy)\n"
   ]
  },
  {
   "cell_type": "code",
   "execution_count": null,
   "metadata": {},
   "outputs": [],
   "source": []
  }
 ],
 "metadata": {
  "kernelspec": {
   "display_name": "Python 3",
   "language": "python",
   "name": "python3"
  },
  "language_info": {
   "codemirror_mode": {
    "name": "ipython",
    "version": 3
   },
   "file_extension": ".py",
   "mimetype": "text/x-python",
   "name": "python",
   "nbconvert_exporter": "python",
   "pygments_lexer": "ipython3",
   "version": "3.6.8"
  }
 },
 "nbformat": 4,
 "nbformat_minor": 2
}

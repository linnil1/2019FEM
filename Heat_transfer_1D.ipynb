{
 "cells": [
  {
   "cell_type": "markdown",
   "metadata": {},
   "source": [
    "# Heat transfer 1D\n",
    "\n",
    "This solve heat transfer by general formula.\n",
    "\n",
    "The heat transfer formula is $c_1d^2T/dx^2+c_2T+c_3$"
   ]
  },
  {
   "cell_type": "markdown",
   "metadata": {},
   "source": [
    "## Custom data\n",
    "![](https://raw.githubusercontent.com/linnil1/2019FEM/master/images/Heat_1D.png)\n",
    "\n",
    "* `heats`: we enter the element by tuple, in each tuple, it contains k(conduction), h(convection), l(length)\n",
    "* `heat_p`: the Perimeter of each element(const)\n",
    "* `heat_a`: the cross section area of each element(const)\n",
    "* `lastF`: The environment temperture.\n",
    "* `getC`, return the $c_1$, $c_2$, $c_3$\n",
    "* `setBoundary`: set what you want. `bigT` stands for the matrix, `bigF` stands for external heat.\n",
    "\n",
    "You should set your boundary. The default formula is for heat transfer. "
   ]
  },
  {
   "cell_type": "code",
   "execution_count": 1,
   "metadata": {},
   "outputs": [],
   "source": [
    "import numpy as np\n",
    "\n",
    "# heat parameters of each elements\n",
    "# k h l\n",
    "heats = [(168, 30, 20e-3)] * 4\n",
    "heat_p = 12e-3\n",
    "heat_a = 5e-6\n",
    "lastF = 20\n",
    "\n",
    "\n",
    "# return c1 c2 c3 and L\n",
    "def getC(heat):\n",
    "    return heat[0] * heat_a, -heat[1] * heat_p, heat[1] * heat_p * lastF, heat[2]\n",
    "\n",
    "# set boundary for the situation\n",
    "def setBoundary():\n",
    "    bigT[0, :] = 0\n",
    "    bigT[0, 0] = 1\n",
    "    bigF[0] = 100\n",
    "    bigT[-1, -1] += heats[-1][1] * heat_a\n",
    "    bigF[-1] += heats[-1][1] * heat_a * lastF"
   ]
  },
  {
   "cell_type": "markdown",
   "metadata": {},
   "source": [
    "## solve"
   ]
  },
  {
   "cell_type": "code",
   "execution_count": 2,
   "metadata": {},
   "outputs": [
    {
     "name": "stdout",
     "output_type": "stream",
     "text": [
      "bigT\n",
      "[[ 1.       0.       0.       0.       0.     ]\n",
      " [-0.0408   0.0888  -0.0408   0.       0.     ]\n",
      " [ 0.      -0.0408   0.0888  -0.0408   0.     ]\n",
      " [ 0.       0.      -0.0408   0.0888  -0.0408 ]\n",
      " [ 0.       0.       0.      -0.0408   0.04455]]\n",
      "bigF\n",
      "[1.00e+02 1.44e-01 1.44e-01 1.44e-01 7.50e-02]\n",
      "Result\n",
      "[100.          75.03868587  59.79008101  51.56325515  48.90641549]\n"
     ]
    }
   ],
   "source": [
    "# parameters\n",
    "n = len(heats) + 1\n",
    "\n",
    "# set up basic stiffness matrix\n",
    "bigT = np.zeros([n, n])\n",
    "bigF = np.zeros(n)\n",
    "for i in range(n - 1):\n",
    "    c1, c2, c3, L = getC(heats[i])\n",
    "    bigT[i:i+2, i:i+2] += c1 / L * np.array([[1, -1], [-1, 1]])\n",
    "    bigT[i:i+2, i:i+2] -= c2 * L / 6 * np.array([[2, 1], [1, 2]])\n",
    "    bigF[i:i+2] += c3 * L / 2 * np.array([1, 1])\n",
    "\n",
    "# boundry\n",
    "setBoundary()\n",
    "\n",
    "# solve\n",
    "print(\"bigT\")\n",
    "print(bigT)\n",
    "print(\"bigF\")\n",
    "print(bigF)\n",
    "t = np.linalg.inv(bigT).dot(bigF)\n",
    "print(\"Result\")\n",
    "print(t)"
   ]
  },
  {
   "cell_type": "code",
   "execution_count": 3,
   "metadata": {},
   "outputs": [
    {
     "name": "stdout",
     "output_type": "stream",
     "text": [
      "loss\n",
      "[0.4861392691230402, 0.34138356074377463, 0.25687201014282224, 0.21769081427295603, 0.0043359623229528455]\n",
      "1.306421616605546\n"
     ]
    }
   ],
   "source": [
    "# post processing\n",
    "print(\"loss\")\n",
    "heats = np.array(heats)\n",
    "heat_loss = ((t[1:] + t[:-1]) / 2 - lastF) * heat_p * heats[:, 1] * heats[:, 2]\n",
    "heat_loss = [*heat_loss, (t[-1] - lastF) * heats[-1, 1] * heat_a]\n",
    "print(heat_loss)\n",
    "print(np.sum(heat_loss))"
   ]
  },
  {
   "cell_type": "code",
   "execution_count": null,
   "metadata": {},
   "outputs": [],
   "source": []
  }
 ],
 "metadata": {
  "kernelspec": {
   "display_name": "Python 3",
   "language": "python",
   "name": "python3"
  },
  "language_info": {
   "codemirror_mode": {
    "name": "ipython",
    "version": 3
   },
   "file_extension": ".py",
   "mimetype": "text/x-python",
   "name": "python",
   "nbconvert_exporter": "python",
   "pygments_lexer": "ipython3",
   "version": "3.6.9"
  }
 },
 "nbformat": 4,
 "nbformat_minor": 2
}
